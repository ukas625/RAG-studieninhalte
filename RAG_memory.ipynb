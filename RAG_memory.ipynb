{
  "nbformat": 4,
  "nbformat_minor": 0,
  "metadata": {
    "colab": {
      "provenance": [],
      "authorship_tag": "ABX9TyPXcBfWZKwCxuxRfJV2Xpj5"
    },
    "kernelspec": {
      "name": "python3",
      "display_name": "Python 3"
    },
    "language_info": {
      "name": "python"
    }
  },
  "cells": [
    {
      "cell_type": "markdown",
      "source": [
        "# 🎓 Retrieval-Augmented Generation (RAG) – Eigenes Frage-Antwort-System auf Studieninhalte\n",
        "\n",
        "## 🧠 Was ist RAG?\n",
        "\n",
        "Retrieval-Augmented Generation (RAG) ist ein moderner Ansatz im Bereich Large Language Models (LLMs), bei dem ein Sprachmodell (z. B. GPT) **nicht nur auf seinem Training basiert**, sondern bei Bedarf **externe Informationen** aus einer Wissensquelle abruft – z. B. aus Textdokumenten, Datenbanken oder Webseiten.\n",
        "\n",
        "👉 Der Vorteil: Das Modell kann auf **aktuelle und individuelle Informationen zugreifen**, ohne dass es komplett neu trainiert werden muss.\n",
        "\n",
        "---\n",
        "\n",
        "## 📂 Ziel dieses Projekts\n",
        "\n",
        "In diesem Projekt habe ich ein RAG-System gebaut, das auf **meine eigenen hochgeladenen PDF-Dokumente** zugreift – konkret:\n",
        "\n",
        "- Studien- und Prüfungsordnungen\n",
        "- Modulhandbücher\n",
        "- Weitere akademische Unterlagen aus meinem Studium\n",
        "\n",
        "Mithilfe dieses Systems kann ich anschließend **Fragen zu meinen eigenen Studieninhalten stellen**, z. B.:\n",
        "\n",
        "- *„Wie viele ECTS hat das Praxissemester?“*\n",
        "- *„Welche Inhalte umfasst das Modul Software Engineering“*\n",
        "- *„Welche Bedingungen gelten für das Kolloquium?“*\n",
        "\n",
        "---\n",
        "\n",
        "## 🔧 Wie funktioniert mein System?\n",
        "\n",
        "1. **PDF-Dokumente aus Google Drive** werden automatisch geladen\n",
        "2. Die Texte werden in kleine **Chunks** zerlegt\n",
        "3. Mit **OpenAI-Embeddings** werden diese Chunks in Vektoren umgewandelt\n",
        "4. Diese werden in einer **FAISS-Vektor-Datenbank** gespeichert\n",
        "5. Wenn ich eine Frage stelle:\n",
        "   - Sucht ein **Retriever** nach passenden Chunks\n",
        "   - GPT erzeugt auf Basis dieser Textstellen eine **Antwort**\n",
        "\n",
        "---\n",
        "\n",
        "## 🎯 Warum ist das hilfreich?\n",
        "\n",
        "Dieses System simuliert eine **intelligente Studienberatung**, die mir hilft, schnell und präzise Informationen aus offiziellen Unterlagen zu bekommen –  \n",
        "ohne langes Scrollen und Suchen in PDF-Dateien.\n",
        "\n",
        "---\n",
        "\n",
        "## 🛠️ Technologien im Einsatz:\n",
        "\n",
        "- **LangChain** – Framework für LLM-gestützte Anwendungen\n",
        "- **OpenAI GPT-3.5 Turbo** – Sprachmodell zur Textgenerierung\n",
        "- **OpenAI Embeddings (text-embedding-3-large)** – für semantische Suche\n",
        "- **FAISS** – Vektor-Datenbank für schnelle Ähnlichkeitssuche\n",
        "- **Google Drive + Colab** – zur Dateiablage und Ausführung"
      ],
      "metadata": {
        "id": "AjQe1wOh2Fr1"
      }
    },
    {
      "cell_type": "code",
      "execution_count": 1,
      "metadata": {
        "id": "5gbbXtCGNzht",
        "colab": {
          "base_uri": "https://localhost:8080/"
        },
        "outputId": "dbb42ab8-eaac-41ce-da50-64a00f97a291",
        "collapsed": true
      },
      "outputs": [
        {
          "output_type": "stream",
          "name": "stdout",
          "text": [
            "\u001b[2K     \u001b[90m━━━━━━━━━━━━━━━━━━━━━━━━━━━━━━━━━━━━━━━━\u001b[0m \u001b[32m43.5/43.5 kB\u001b[0m \u001b[31m3.0 MB/s\u001b[0m eta \u001b[36m0:00:00\u001b[0m\n",
            "\u001b[2K   \u001b[90m━━━━━━━━━━━━━━━━━━━━━━━━━━━━━━━━━━━━━━━━\u001b[0m \u001b[32m2.5/2.5 MB\u001b[0m \u001b[31m33.3 MB/s\u001b[0m eta \u001b[36m0:00:00\u001b[0m\n",
            "\u001b[2K   \u001b[90m━━━━━━━━━━━━━━━━━━━━━━━━━━━━━━━━━━━━━━━━\u001b[0m \u001b[32m145.2/145.2 kB\u001b[0m \u001b[31m10.4 MB/s\u001b[0m eta \u001b[36m0:00:00\u001b[0m\n",
            "\u001b[2K   \u001b[90m━━━━━━━━━━━━━━━━━━━━━━━━━━━━━━━━━━━━━━━━\u001b[0m \u001b[32m42.0/42.0 kB\u001b[0m \u001b[31m2.7 MB/s\u001b[0m eta \u001b[36m0:00:00\u001b[0m\n",
            "\u001b[2K   \u001b[90m━━━━━━━━━━━━━━━━━━━━━━━━━━━━━━━━━━━━━━━━\u001b[0m \u001b[32m47.2/47.2 kB\u001b[0m \u001b[31m3.1 MB/s\u001b[0m eta \u001b[36m0:00:00\u001b[0m\n",
            "\u001b[2K   \u001b[90m━━━━━━━━━━━━━━━━━━━━━━━━━━━━━━━━━━━━━━━━\u001b[0m \u001b[32m44.4/44.4 kB\u001b[0m \u001b[31m2.9 MB/s\u001b[0m eta \u001b[36m0:00:00\u001b[0m\n",
            "\u001b[2K   \u001b[90m━━━━━━━━━━━━━━━━━━━━━━━━━━━━━━━━━━━━━━━━\u001b[0m \u001b[32m194.8/194.8 kB\u001b[0m \u001b[31m12.9 MB/s\u001b[0m eta \u001b[36m0:00:00\u001b[0m\n",
            "\u001b[2K   \u001b[90m━━━━━━━━━━━━━━━━━━━━━━━━━━━━━━━━━━━━━━━━\u001b[0m \u001b[32m50.9/50.9 kB\u001b[0m \u001b[31m3.4 MB/s\u001b[0m eta \u001b[36m0:00:00\u001b[0m\n",
            "\u001b[2K   \u001b[90m━━━━━━━━━━━━━━━━━━━━━━━━━━━━━━━━━━━━━━━━\u001b[0m \u001b[32m223.6/223.6 kB\u001b[0m \u001b[31m16.7 MB/s\u001b[0m eta \u001b[36m0:00:00\u001b[0m\n",
            "\u001b[?25hCollecting faiss-cpu\n",
            "  Downloading faiss_cpu-1.10.0-cp311-cp311-manylinux_2_28_x86_64.whl.metadata (4.4 kB)\n",
            "Requirement already satisfied: numpy<3.0,>=1.25.0 in /usr/local/lib/python3.11/dist-packages (from faiss-cpu) (2.0.2)\n",
            "Requirement already satisfied: packaging in /usr/local/lib/python3.11/dist-packages (from faiss-cpu) (24.2)\n",
            "Downloading faiss_cpu-1.10.0-cp311-cp311-manylinux_2_28_x86_64.whl (30.7 MB)\n",
            "\u001b[2K   \u001b[90m━━━━━━━━━━━━━━━━━━━━━━━━━━━━━━━━━━━━━━━━\u001b[0m \u001b[32m30.7/30.7 MB\u001b[0m \u001b[31m17.3 MB/s\u001b[0m eta \u001b[36m0:00:00\u001b[0m\n",
            "\u001b[?25hInstalling collected packages: faiss-cpu\n",
            "Successfully installed faiss-cpu-1.10.0\n",
            "\u001b[2K   \u001b[90m━━━━━━━━━━━━━━━━━━━━━━━━━━━━━━━━━━━━━━━━\u001b[0m \u001b[32m62.4/62.4 kB\u001b[0m \u001b[31m1.7 MB/s\u001b[0m eta \u001b[36m0:00:00\u001b[0m\n",
            "\u001b[2K   \u001b[90m━━━━━━━━━━━━━━━━━━━━━━━━━━━━━━━━━━━━━━━━\u001b[0m \u001b[32m433.9/433.9 kB\u001b[0m \u001b[31m10.2 MB/s\u001b[0m eta \u001b[36m0:00:00\u001b[0m\n",
            "\u001b[2K   \u001b[90m━━━━━━━━━━━━━━━━━━━━━━━━━━━━━━━━━━━━━━━━\u001b[0m \u001b[32m1.2/1.2 MB\u001b[0m \u001b[31m31.5 MB/s\u001b[0m eta \u001b[36m0:00:00\u001b[0m\n",
            "\u001b[?25hCollecting pypdf\n",
            "  Downloading pypdf-5.4.0-py3-none-any.whl.metadata (7.3 kB)\n",
            "Downloading pypdf-5.4.0-py3-none-any.whl (302 kB)\n",
            "\u001b[2K   \u001b[90m━━━━━━━━━━━━━━━━━━━━━━━━━━━━━━━━━━━━━━━━\u001b[0m \u001b[32m302.3/302.3 kB\u001b[0m \u001b[31m6.1 MB/s\u001b[0m eta \u001b[36m0:00:00\u001b[0m\n",
            "\u001b[?25hInstalling collected packages: pypdf\n",
            "Successfully installed pypdf-5.4.0\n"
          ]
        }
      ],
      "source": [
        "# Installation der erforderlichen Pakete und Komponenten\n",
        "%pip install --quiet --upgrade langchain-text-splitters langchain-community langgraph\n",
        "!pip install faiss-cpu\n",
        "!pip install -qU \"langchain[openai]\"\n",
        "!pip install pypdf\n"
      ]
    },
    {
      "cell_type": "code",
      "source": [
        "# Import notwendiger Bibliotheken\n",
        "import os, datetime\n",
        "from getpass import getpass\n",
        "from langchain.chat_models import init_chat_model\n",
        "from langchain_openai import OpenAIEmbeddings\n",
        "from langchain.vectorstores import FAISS\n",
        "from langchain_community.document_loaders import PyPDFLoader\n",
        "from langchain_text_splitters import RecursiveCharacterTextSplitter\n",
        "from sklearn.metrics.pairwise import cosine_similarity\n",
        "import numpy as np\n",
        "from langchain.prompts import PromptTemplate\n",
        "from typing_extensions import TypedDict, List, Annotated\n",
        "from langchain_core.documents import Document\n",
        "from langgraph.graph import START, StateGraph, MessagesState, END\n",
        "from google.colab import drive\n",
        "from typing import Literal, List\n",
        "from langchain_core.tools import tool\n",
        "from langchain_core.messages import SystemMessage, AIMessage, ToolCall\n",
        "from langgraph.prebuilt import tools_condition, ToolNode\n",
        "from langgraph.checkpoint.memory import MemorySaver\n",
        "\n",
        "drive.mount('/content/drive')\n"
      ],
      "metadata": {
        "id": "HeYbxb8WucAf",
        "colab": {
          "base_uri": "https://localhost:8080/"
        },
        "outputId": "d00588d8-80b1-4f64-84bd-22f9f3a458ab"
      },
      "execution_count": 2,
      "outputs": [
        {
          "output_type": "stream",
          "name": "stdout",
          "text": [
            "Mounted at /content/drive\n"
          ]
        }
      ]
    },
    {
      "cell_type": "code",
      "source": [
        "# OpenAI API Key\n",
        "if not os.environ.get(\"OPENAI_API_KEY\"):\n",
        "    os.environ[\"OPENAI_API_KEY\"] = getpass(\"🔑 OpenAI API Key eingeben: \")\n",
        "\n",
        "#LangSmith API Key um spätere analyse zu ermöglichen\n",
        "os.environ[\"LANGSMITH_TRACING\"] = \"true\"\n",
        "os.environ[\"LANGSMITH_API_KEY\"] = getpass(\"🔑 LangSmith API Key eingeben: \")\n",
        "\n",
        "# Wrapper funktion für den Start des GPT modells\n",
        "llm = init_chat_model(\"gpt-3.5-turbo\", model_provider=\"openai\")\n"
      ],
      "metadata": {
        "id": "4f6x9xzIWSRh",
        "colab": {
          "base_uri": "https://localhost:8080/"
        },
        "outputId": "2059b7c4-e81d-420f-cddd-2b4741ce78c0"
      },
      "execution_count": 3,
      "outputs": [
        {
          "name": "stdout",
          "output_type": "stream",
          "text": [
            "🔑 OpenAI API Key eingeben: ··········\n",
            "🔑 LangSmith API Key eingeben: ··········\n"
          ]
        }
      ]
    },
    {
      "cell_type": "code",
      "source": [
        "# Vektorrechner: wandelt Text in Vektoren um\n",
        "embeddings = OpenAIEmbeddings(model=\"text-embedding-3-large\")\n"
      ],
      "metadata": {
        "id": "V7sR_MNfZY9-"
      },
      "execution_count": 4,
      "outputs": []
    },
    {
      "cell_type": "code",
      "source": [
        "# Nötige Pfade\n",
        "folder_path = \"/content/drive/MyDrive/Praxisphase_BIS\"\n",
        "path = \"/content/drive/MyDrive/faiss_rag\"\n"
      ],
      "metadata": {
        "id": "rWAwVfuEm8iL"
      },
      "execution_count": 5,
      "outputs": []
    },
    {
      "cell_type": "code",
      "source": [
        "# Lade Vektordatenbank aus dem lokalen Speicher, falls vorhanden – andernfalls lade PDF-Dateien, teile sie in Textabschnitte auf, erstelle eine neue FAISS-Vektordatenbank und speichere sie lokal.\n",
        "force_rebuild = False # → damit neue PDFs eingelesen & neu gechunked werden auf True sonst False\n",
        "\n",
        "if os.path.exists(path) and not force_rebuild:\n",
        "    vector_store = FAISS.load_local(path, embeddings, allow_dangerous_deserialization=True)\n",
        "\n",
        "else:\n",
        "    loaders = [PyPDFLoader(os.path.join(folder_path, f)) for f in os.listdir(folder_path) if f.endswith(\".pdf\")]\n",
        "    docs = sum([loader.load() for loader in loaders], [])\n",
        "    print(f\" {len(docs)} Seiten insgesamt geladen.\")\n",
        "    print(f\" Vorschau (erste Seite):\\n{docs[0].page_content[:500]}\")\n",
        "\n",
        "    text_splitter = RecursiveCharacterTextSplitter(chunk_size=500, chunk_overlap=200)\n",
        "    all_splits = text_splitter.split_documents(docs)\n",
        "\n",
        "    # Neue Metadaten setzen (für die Query Analysis)\n",
        "    total_chunks = len(all_splits)\n",
        "    third = total_chunks // 3\n",
        "\n",
        "    for i, doc in enumerate(all_splits):\n",
        "        if i < third:\n",
        "            doc.metadata[\"section\"] = \"beginning\"\n",
        "        elif i < 2 * third:\n",
        "            doc.metadata[\"section\"] = \"middle\"\n",
        "        else:\n",
        "            doc.metadata[\"section\"] = \"end\"\n",
        "\n",
        "    vector_store = FAISS.from_documents(all_splits, embeddings)\n",
        "    vector_store.save_local(path)\n"
      ],
      "metadata": {
        "id": "95JBdotneQ1O"
      },
      "execution_count": 6,
      "outputs": []
    },
    {
      "cell_type": "code",
      "source": [
        "# Retriever\n",
        "@tool(response_format=\"content_and_artifact\")\n",
        "def retrieve(query: str):\n",
        "    \"\"\"Retrieve information related to a query.\"\"\"\n",
        "    print(f\"🔍 RETRIEVAL WIRD AUSGEFÜHRT: {query}\")\n",
        "    retrieved_docs = vector_store.similarity_search(query, k=20)\n",
        "    serialized = \"\\n\\n\".join(\n",
        "        (f\"Source: {doc.metadata}\\nContent: {doc.page_content}\")\n",
        "        for doc in retrieved_docs\n",
        "    )\n",
        "    return serialized, retrieved_docs"
      ],
      "metadata": {
        "id": "iQPOpIpSpsGK"
      },
      "execution_count": 7,
      "outputs": []
    },
    {
      "cell_type": "code",
      "source": [
        "from uuid import uuid4\n",
        "from langchain_core.messages import AIMessage, ToolCall\n",
        "\n",
        "def query_or_respond(state: MessagesState):\n",
        "    query = state[\"messages\"][-1].content\n",
        "    tool_call = ToolCall(\n",
        "        id=str(uuid4()),\n",
        "        name=\"retrieve\",\n",
        "        args={\"query\": query}\n",
        "    )\n",
        "    ai_msg = AIMessage(content=\"\", tool_calls=[tool_call])\n",
        "    return {\"messages\": [ai_msg]}\n",
        "\n",
        "tools = ToolNode([retrieve])\n",
        "\n",
        "def generate(state: MessagesState):\n",
        "    \"\"\"Final GPT-Antwort basierend auf Tool-Ergebnis.\"\"\"\n",
        "    # Tool-Nachrichten extrahieren\n",
        "    recent_tool_messages = []\n",
        "    for message in reversed(state[\"messages\"]):\n",
        "        if message.type == \"tool\":\n",
        "            recent_tool_messages.append(message)\n",
        "        else:\n",
        "            break\n",
        "    tool_messages = recent_tool_messages[::-1]\n",
        "\n",
        "    docs_content = \"\\n\\n\".join(doc.content for doc in tool_messages)\n",
        "    system_message_content = (\n",
        "    \"Du bist ein akademischer Studienberater für den Studiengang Wirtschaftsinformatik. \"\n",
        "    \"Beantworte die folgende Nutzerfrage sachlich und auf Basis der bereitgestellten Kontextinformationen. \"\n",
        "    \"Nutze wirklich nur ausschließlich den Kontext – wenn keine passenden Informationen vorhanden sind, sage ehrlich, dass du es nicht beantworten kannst. \"\n",
        "    \"Fasse deine Antwort in maximal drei Sätzen präzise zusammen.\"\n",
        "    \"Gib keine allgemeine oder erfundene Antwort. \\n\\n\"\n",
        "        f\"{docs_content}\"\n",
        "    )\n",
        "\n",
        "    conversation_messages = [\n",
        "        message for message in state[\"messages\"]\n",
        "        if message.type in (\"human\", \"system\")\n",
        "        or (message.type == \"ai\" and not message.tool_calls)\n",
        "    ]\n",
        "\n",
        "    prompt = [SystemMessage(system_message_content)] + conversation_messages\n",
        "    response = llm.invoke(prompt)\n",
        "    return {\"messages\": [response]}\n"
      ],
      "metadata": {
        "id": "OnFWoJjgUJ2l"
      },
      "execution_count": 8,
      "outputs": []
    },
    {
      "cell_type": "code",
      "source": [
        "graph_builder = StateGraph(MessagesState)\n",
        "\n",
        "graph_builder.add_node(\"query_or_respond\", query_or_respond)\n",
        "graph_builder.add_node(\"tools\", tools)\n",
        "graph_builder.add_node(\"generate\", generate)\n",
        "\n",
        "graph_builder.set_entry_point(\"query_or_respond\")\n",
        "\n",
        "graph_builder.add_conditional_edges(\n",
        "    \"query_or_respond\",\n",
        "    tools_condition,\n",
        "    {\n",
        "        END: END,\n",
        "        \"tools\": \"tools\"\n",
        "    }\n",
        ")\n",
        "\n",
        "graph_builder.add_edge(\"tools\", \"generate\")\n",
        "graph_builder.add_edge(\"generate\", END)\n",
        "\n"
      ],
      "metadata": {
        "colab": {
          "base_uri": "https://localhost:8080/"
        },
        "id": "5H_qdVPPtFu0",
        "outputId": "8f874cce-8ee7-4269-bbe9-e455b7495cbd"
      },
      "execution_count": 9,
      "outputs": [
        {
          "output_type": "execute_result",
          "data": {
            "text/plain": [
              "<langgraph.graph.state.StateGraph at 0x7b835fccc750>"
            ]
          },
          "metadata": {},
          "execution_count": 9
        }
      ]
    },
    {
      "cell_type": "code",
      "source": [
        "# Memory initialisieren\n",
        "memory = MemorySaver()"
      ],
      "metadata": {
        "id": "u8Xkz2ZfXWvh"
      },
      "execution_count": 10,
      "outputs": []
    },
    {
      "cell_type": "code",
      "source": [
        "# Kompiliert den Zustandsgraphen zu einem ausführbaren Workflow.\n",
        "graph = graph_builder.compile(checkpointer=memory)"
      ],
      "metadata": {
        "id": "TmnKHvnztIPL"
      },
      "execution_count": 11,
      "outputs": []
    },
    {
      "cell_type": "code",
      "source": [
        "from IPython.display import Image, display\n",
        "\n",
        "display(Image(graph.get_graph().draw_mermaid_png()))"
      ],
      "metadata": {
        "colab": {
          "base_uri": "https://localhost:8080/",
          "height": 449
        },
        "id": "702b7ZZElF0H",
        "outputId": "e8e9e916-9483-4db0-df4d-91f3c54a882d",
        "collapsed": true
      },
      "execution_count": 13,
      "outputs": [
        {
          "output_type": "display_data",
          "data": {
            "image/png": "[encoded data removed]",
            "text/plain": [
              "<IPython.core.display.Image object>"
            ]
          },
          "metadata": {}
        }
      ]
    },
    {
      "cell_type": "code",
      "source": [
        "input_message = \"Wer ist der Professor für das Modul Software Engineering?\"\n",
        "\n",
        "for step in graph.stream(\n",
        "    {\"messages\": [{\"role\": \"user\", \"content\": input_message}]},\n",
        "    stream_mode=\"values\",\n",
        "    config={\"configurable\": {\"thread_id\": \"default-session\"}}\n",
        "):\n",
        "    step[\"messages\"][-1].pretty_print()\n"
      ],
      "metadata": {
        "colab": {
          "base_uri": "https://localhost:8080/"
        },
        "id": "9a_uDD-SVPQ5",
        "outputId": "15f77d60-04cc-49f6-b98f-a70bc7ab0d00",
        "collapsed": true
      },
      "execution_count": 14,
      "outputs": [
        {
          "output_type": "stream",
          "name": "stderr",
          "text": [
            "WARNING:langsmith.client:Failed to multipart ingest runs: langsmith.utils.LangSmithError: Failed to POST https://api.smith.langchain.com/runs/multipart in LangSmith API. HTTPError('403 Client Error: Forbidden for url: https://api.smith.langchain.com/runs/multipart', '{\"error\":\"Forbidden\"}\\n')\n"
          ]
        },
        {
          "output_type": "stream",
          "name": "stdout",
          "text": [
            "================================\u001b[1m Human Message \u001b[0m=================================\n",
            "\n",
            "Wer ist der Professor für das Modul Software Engineering?\n",
            "==================================\u001b[1m Ai Message \u001b[0m==================================\n",
            "Tool Calls:\n",
            "  retrieve (b73236c0-a631-4f7c-828f-1795fb1cb97e)\n",
            " Call ID: b73236c0-a631-4f7c-828f-1795fb1cb97e\n",
            "  Args:\n",
            "    query: Wer ist der Professor für das Modul Software Engineering?\n",
            "🔍 RETRIEVAL WIRD AUSGEFÜHRT: Wer ist der Professor für das Modul Software Engineering?\n",
            "=================================\u001b[1m Tool Message \u001b[0m=================================\n",
            "Name: retrieve\n",
            "\n",
            "Source: {'producer': 'Adobe PDF Library 24.2.229', 'creator': 'Acrobat PDFMaker 24 für Word', 'creationdate': '2024-09-03T11:23:01+02:00', 'author': 'achilles', 'company': 'Fakultät IV, Abt. Wirtschaft', 'keywords': '', 'moddate': '2024-09-03T11:33:33+02:00', 'sourcemodified': 'D:20240903091206', 'subject': '', 'title': 'I', 'source': '/content/drive/MyDrive/Praxisphase_BIS/05-BIS-Studien-Modulhandbuch-PO2018-240903.pdf', 'total_pages': 202, 'page': 83, 'page_label': '84', 'section': 'middle'}\n",
            "Content: Fakultät IV - Wirtschaft und Informatik, Bachelorstudiengang Wirtschaftsinformatik\n",
            "Teilmodul  BIS-202-01 Software Engineering\n",
            " \n",
            "Verantwortliche(r) Chong, Dennis, Prof. Dr.\n",
            "Sprache Deutsch\n",
            "Zuordnung zu Curricula BIS, VIF - semesterweise\n",
            "Veranstaltungsart, SWS Vorlesung mit Übung, 4 SWS\n",
            "Credits 6\n",
            "Präsenzstunden / Selbststudium 68 h / 112 h\n",
            "Empfehlungen zum Selbststudium Vor- und Nachbereiten von Vorlesung und Übung anhand der \n",
            "Begleitmaterialien und ggf. ergänzender Literatur; Bearbeiten von\n",
            "\n",
            "Source: {'producer': 'Adobe PDF Library 24.2.229', 'creator': 'Acrobat PDFMaker 24 für Word', 'creationdate': '2024-09-03T11:23:01+02:00', 'author': 'achilles', 'company': 'Fakultät IV, Abt. Wirtschaft', 'keywords': '', 'moddate': '2024-09-03T11:33:33+02:00', 'sourcemodified': 'D:20240903091206', 'subject': '', 'title': 'I', 'source': '/content/drive/MyDrive/Praxisphase_BIS/05-BIS-Studien-Modulhandbuch-PO2018-240903.pdf', 'total_pages': 202, 'page': 82, 'page_label': '83', 'section': 'middle'}\n",
            "Content: Fakultät IV - Wirtschaft und Informatik, Bachelorstudiengang Wirtschaftsinformatik\n",
            "Modul  BIS-202 Software Engineering\n",
            " \n",
            "Modulniveau Aufbaumodul\n",
            "Pflicht / Wahlpflicht Pflichtmodul\n",
            "Teilmodule BIS-202-01 Software Engineering, Pflicht\n",
            "Verantwortliche(r) Chong, Dennis, Prof. Dr.\n",
            "Credits 6\n",
            "Präsenzstunden / Selbststudium 68 h / 112 h\n",
            "Studiensemester 4\n",
            "Moduldauer 1 Semester\n",
            "Voraussetzungen nach \n",
            "Prüfungsordnung\n",
            "Module des 1. Studienabschnitts (insbes. BIS-134 Anforderungsanalyse);\n",
            "\n",
            "Source: {'producer': 'Adobe PDF Library 24.2.229', 'creator': 'Acrobat PDFMaker 24 für Word', 'creationdate': '2024-09-03T11:23:01+02:00', 'author': 'achilles', 'company': 'Fakultät IV, Abt. Wirtschaft', 'keywords': '', 'moddate': '2024-09-03T11:33:33+02:00', 'sourcemodified': 'D:20240903091206', 'subject': '', 'title': 'I', 'source': '/content/drive/MyDrive/Praxisphase_BIS/05-BIS-Studien-Modulhandbuch-PO2018-240903.pdf', 'total_pages': 202, 'page': 169, 'page_label': '170', 'section': 'end'}\n",
            "Content: Verantwortliche(r) Chong, Denis, Prof. Dr.\n",
            "Credits 6\n",
            "Präsenzstunden / Selbststudium 68 h / 112 h\n",
            "Moduldauer 1 Semester\n",
            "Voraussetzungen nach \n",
            "Prüfungsordnung\n",
            "Module des 1. Studienabschnitts\n",
            "Empfohlene Voraussetzungen BIS-201 Anwendungsprogrammierung, BIS-202 Software-Engineering\n",
            "Studien-/ Prüfungsleistungen auf Teilmodulebene\n",
            "Angestrebte Lernergebnisse\n",
            "Die Studierenden können wesentliche Konzepte der Softwarequalität und ihrer Messung nennen und\n",
            "\n",
            "Source: {'producer': 'Adobe PDF Library 24.2.229', 'creator': 'Acrobat PDFMaker 24 für Word', 'creationdate': '2024-09-03T11:23:01+02:00', 'author': 'achilles', 'company': 'Fakultät IV, Abt. Wirtschaft', 'keywords': '', 'moddate': '2024-09-03T11:33:33+02:00', 'sourcemodified': 'D:20240903091206', 'subject': '', 'title': 'I', 'source': '/content/drive/MyDrive/Praxisphase_BIS/05-BIS-Studien-Modulhandbuch-PO2018-240903.pdf', 'total_pages': 202, 'page': 84, 'page_label': '85', 'section': 'middle'}\n",
            "Content: Verantwortliche(r) Paßlick, Jens Hendrik, Prof. Dr.\n",
            "Credits 6\n",
            "Präsenzstunden / Selbststudium 68 h / 112 h\n",
            "Studiensemester 5\n",
            "Moduldauer 1 Semester\n",
            "Voraussetzungen nach \n",
            "Prüfungsordnung\n",
            "Module des 1. Studienabschnitts; BIS-201 Anwendungsprgrammierung, \n",
            "BIS-202 Software Engineering\n",
            "Studien-/ Prüfungsleistungen auf Teilmodulebene\n",
            "Angestrebte Lernergebnisse\n",
            "Die Studierenden erwerben Kenntnisse über Aufbau, fundamentale Konzepte und Arbeitsweise von\n",
            "\n",
            "Source: {'producer': 'Adobe PDF Library 24.2.229', 'creator': 'Acrobat PDFMaker 24 für Word', 'creationdate': '2024-09-03T11:23:01+02:00', 'author': 'achilles', 'company': 'Fakultät IV, Abt. Wirtschaft', 'keywords': '', 'moddate': '2024-09-03T11:33:33+02:00', 'sourcemodified': 'D:20240903091206', 'subject': '', 'title': 'I', 'source': '/content/drive/MyDrive/Praxisphase_BIS/05-BIS-Studien-Modulhandbuch-PO2018-240903.pdf', 'total_pages': 202, 'page': 170, 'page_label': '171', 'section': 'end'}\n",
            "Content: Fakultät IV - Wirtschaft und Informatik, Bachelorstudiengang Wirtschaftsinformatik\n",
            "Teilmodul  BIS-267-01 Software-Qualität\n",
            " \n",
            "Verantwortliche(r) Chong, Denis, Prof. Dr.\n",
            "Sprache Deutsch\n",
            "Zuordnung zu Curricula BIS - semesterweise\n",
            "Veranstaltungsart, SWS Seminar, 4 SWS\n",
            "Credits 6\n",
            "Präsenzstunden / Selbststudium 68 h / 112 h\n",
            "Empfehlungen zum Selbststudium Nachbereiten der Lehrinhalte anhand der Begleitmaterialien und \n",
            "ergänzender Literatur; evtl. Vorbereitung Referat\n",
            "\n",
            "Source: {'producer': 'Adobe PDF Library 24.2.229', 'creator': 'Acrobat PDFMaker 24 für Word', 'creationdate': '2024-09-03T11:23:01+02:00', 'author': 'achilles', 'company': 'Fakultät IV, Abt. Wirtschaft', 'keywords': '', 'moddate': '2024-09-03T11:33:33+02:00', 'sourcemodified': 'D:20240903091206', 'subject': '', 'title': 'I', 'source': '/content/drive/MyDrive/Praxisphase_BIS/05-BIS-Studien-Modulhandbuch-PO2018-240903.pdf', 'total_pages': 202, 'page': 164, 'page_label': '165', 'section': 'end'}\n",
            "Content: Fakultät IV - Wirtschaft und Informatik, Bachelorstudiengang Wirtschaftsinformatik\n",
            "Teilmodul  BIS-265-01 Software-Architekturen\n",
            " \n",
            "Verantwortliche(r) N.N.\n",
            "Sprache Deutsch\n",
            "Zuordnung zu Curricula BIS - siehe Mehrsemesterplanung\n",
            "Veranstaltungsart, SWS Vorlesung, 4 SWS\n",
            "Credits 6\n",
            "Präsenzstunden / Selbststudium 68 h / 112 h\n",
            "Empfehlungen zum Selbststudium - Vorbereitung und Nachbereitung des Veranstaltungsstoffes mit Hilfe der \n",
            "elektronisch zur Verfügung gestellten Unterrichtsmaterialien\n",
            "\n",
            "Source: {'producer': 'Adobe PDF Library 24.2.229', 'creator': 'Acrobat PDFMaker 24 für Word', 'creationdate': '2024-09-03T11:23:01+02:00', 'author': 'achilles', 'company': 'Fakultät IV, Abt. Wirtschaft', 'keywords': '', 'moddate': '2024-09-03T11:33:33+02:00', 'sourcemodified': 'D:20240903091206', 'subject': '', 'title': 'I', 'source': '/content/drive/MyDrive/Praxisphase_BIS/05-BIS-Studien-Modulhandbuch-PO2018-240903.pdf', 'total_pages': 202, 'page': 66, 'page_label': '67', 'section': 'middle'}\n",
            "Content: Fakultät IV - Wirtschaft und Informatik, Bachelorstudiengang Wirtschaftsinformatik\n",
            "Teilmodul  BIS-141-01 Einführung Informatik\n",
            " \n",
            "Verantwortliche(r) Stephan, Jörg, Prof. Dr.\n",
            "Sprache Deutsch\n",
            "Zuordnung zu Curricula BIS, VIF - semesterweise\n",
            "Veranstaltungsart, SWS Vorlesung mit Übung, 2 SWS\n",
            "Credits 3\n",
            "Präsenzstunden / Selbststudium 34 h / 56 h\n",
            "Empfehlungen zum Selbststudium Vor- und Nachbereitung anhand Skript; Bearbeiten von Übungsaufgaben\n",
            "Studien-/ Prüfungsleistungen auf Modulebene\n",
            "Gruppengröße 100\n",
            "\n",
            "Source: {'producer': 'Adobe PDF Library 24.2.229', 'creator': 'Acrobat PDFMaker 24 für Word', 'creationdate': '2024-09-03T11:23:01+02:00', 'author': 'achilles', 'company': 'Fakultät IV, Abt. Wirtschaft', 'keywords': '', 'moddate': '2024-09-03T11:33:33+02:00', 'sourcemodified': 'D:20240903091206', 'subject': '', 'title': 'I', 'source': '/content/drive/MyDrive/Praxisphase_BIS/05-BIS-Studien-Modulhandbuch-PO2018-240903.pdf', 'total_pages': 202, 'page': 69, 'page_label': '70', 'section': 'middle'}\n",
            "Content: Fakultät IV - Wirtschaft und Informatik, Bachelorstudiengang Wirtschaftsinformatik\n",
            "Teilmodul  BIS-142-01 Programmieren\n",
            " \n",
            "Verantwortliche(r) Chong, Dennis, Prof. Dr.\n",
            "Sprache Deutsch\n",
            "Zuordnung zu Curricula BIS, VIF - semesterweise\n",
            "Veranstaltungsart, SWS Vorlesung mit Übung, 4 SWS\n",
            "Credits 6\n",
            "Präsenzstunden / Selbststudium 68 h / 112 h\n",
            "Empfehlungen zum Selbststudium Vor- und Nachbereiten von Vorlesung und Übung anhand der \n",
            "Begleitmaterialien und ggf. ergänzender Literatur; Bearbeiten von\n",
            "\n",
            "Source: {'producer': 'Adobe PDF Library 24.2.229', 'creator': 'Acrobat PDFMaker 24 für Word', 'creationdate': '2024-09-03T11:23:01+02:00', 'author': 'achilles', 'company': 'Fakultät IV, Abt. Wirtschaft', 'keywords': '', 'moddate': '2024-09-03T11:33:33+02:00', 'sourcemodified': 'D:20240903091206', 'subject': '', 'title': 'I', 'source': '/content/drive/MyDrive/Praxisphase_BIS/05-BIS-Studien-Modulhandbuch-PO2018-240903.pdf', 'total_pages': 202, 'page': 90, 'page_label': '91', 'section': 'middle'}\n",
            "Content: Fakultät IV - Wirtschaft und Informatik, Bachelorstudiengang Wirtschaftsinformatik\n",
            "Teilmodul  BIS-207-01 Informationssicherheit\n",
            " \n",
            "Verantwortliche(r) Merz, Peter, Prof. Dr.-Ing.\n",
            "Sprache Deutsch\n",
            "Zuordnung zu Curricula BIS, VIF - semesterweise\n",
            "Veranstaltungsart, SWS Vorlesung mit Übung, 4 SWS\n",
            "Credits 6\n",
            "Präsenzstunden / Selbststudium 68 h / 112 h\n",
            "Empfehlungen zum Selbststudium Vor- und Nachbereitung anhand Skript; Bearbeiten von Übungsaufgaben\n",
            "\n",
            "Source: {'producer': 'Adobe PDF Library 24.2.229', 'creator': 'Acrobat PDFMaker 24 für Word', 'creationdate': '2024-09-03T11:23:01+02:00', 'author': 'achilles', 'company': 'Fakultät IV, Abt. Wirtschaft', 'keywords': '', 'moddate': '2024-09-03T11:33:33+02:00', 'sourcemodified': 'D:20240903091206', 'subject': '', 'title': 'I', 'source': '/content/drive/MyDrive/Praxisphase_BIS/05-BIS-Studien-Modulhandbuch-PO2018-240903.pdf', 'total_pages': 202, 'page': 81, 'page_label': '82', 'section': 'middle'}\n",
            "Content: Fakultät IV - Wirtschaft und Informatik, Bachelorstudiengang Wirtschaftsinformatik\n",
            "Teilmodul  BIS-201-01 Anwendungsprogrammierung\n",
            " \n",
            "Verantwortliche(r) Paßlick, Jens Hendrik, Prof. Dr.\n",
            "Sprache Deutsch\n",
            "Zuordnung zu Curricula BIS, VIF - semesterweise\n",
            "Veranstaltungsart, SWS Vorlesung mit Übung, 4 SWS\n",
            "Credits 6\n",
            "Präsenzstunden / Selbststudium 68 h / 112 h\n",
            "Empfehlungen zum Selbststudium Vor- und Nachbereitung anhand Skript, Bearbeiten von Übungsaufgaben\n",
            "\n",
            "Source: {'producer': 'Adobe PDF Library 24.2.229', 'creator': 'Acrobat PDFMaker 24 für Word', 'creationdate': '2024-09-03T11:23:01+02:00', 'author': 'achilles', 'company': 'Fakultät IV, Abt. Wirtschaft', 'keywords': '', 'moddate': '2024-09-03T11:33:33+02:00', 'sourcemodified': 'D:20240903091206', 'subject': '', 'title': 'I', 'source': '/content/drive/MyDrive/Praxisphase_BIS/05-BIS-Studien-Modulhandbuch-PO2018-240903.pdf', 'total_pages': 202, 'page': 169, 'page_label': '170', 'section': 'end'}\n",
            "Content: Fakultät IV - Wirtschaft und Informatik, Bachelorstudiengang Wirtschaftsinformatik\n",
            "Modul  BIS-267 Software-Qualität\n",
            " \n",
            "Modulniveau Vertiefungsmodul\n",
            "Pflicht / Wahlpflicht Wahlpflichtmodul\n",
            "Teilmodule BIS-267-01 Software-Qualität, Wahlpflicht\n",
            "BIS-267-02 Software Quality (in English), Wahlpflicht\n",
            "Verantwortliche(r) Chong, Denis, Prof. Dr.\n",
            "Credits 6\n",
            "Präsenzstunden / Selbststudium 68 h / 112 h\n",
            "Moduldauer 1 Semester\n",
            "Voraussetzungen nach \n",
            "Prüfungsordnung\n",
            "Module des 1. Studienabschnitts\n",
            "\n",
            "Source: {'producer': 'Adobe PDF Library 24.2.229', 'creator': 'Acrobat PDFMaker 24 für Word', 'creationdate': '2024-09-03T11:23:01+02:00', 'author': 'achilles', 'company': 'Fakultät IV, Abt. Wirtschaft', 'keywords': '', 'moddate': '2024-09-03T11:33:33+02:00', 'sourcemodified': 'D:20240903091206', 'subject': '', 'title': 'I', 'source': '/content/drive/MyDrive/Praxisphase_BIS/05-BIS-Studien-Modulhandbuch-PO2018-240903.pdf', 'total_pages': 202, 'page': 172, 'page_label': '173', 'section': 'end'}\n",
            "Content: Verantwortliche(r) Merz, Peter, Prof. Dr.-Ing.\n",
            "Credits 6\n",
            "Präsenzstunden / Selbststudium 68 h / 112 h\n",
            "Moduldauer 1 Semester\n",
            "Voraussetzungen nach \n",
            "Prüfungsordnung\n",
            "Module des 1. Studienabschnitts\n",
            "Empfohlene Voraussetzungen BIS-144 Betriebssysteme und Netzwerke, BIS-204 Verteilte Anwendungen\n",
            "Studien-/ Prüfungsleistungen auf Teilmodulebene\n",
            "Angestrebte Lernergebnisse\n",
            "Die Studierenden sind in der Lage eigenständig Applikationen (Apps) für gängige mobile Plattformen\n",
            "\n",
            "Source: {'producer': 'Adobe PDF Library 24.2.229', 'creator': 'Acrobat PDFMaker 24 für Word', 'creationdate': '2024-09-03T11:23:01+02:00', 'author': 'achilles', 'company': 'Fakultät IV, Abt. Wirtschaft', 'keywords': '', 'moddate': '2024-09-03T11:33:33+02:00', 'sourcemodified': 'D:20240903091206', 'subject': '', 'title': 'I', 'source': '/content/drive/MyDrive/Praxisphase_BIS/05-BIS-Studien-Modulhandbuch-PO2018-240903.pdf', 'total_pages': 202, 'page': 115, 'page_label': '116', 'section': 'end'}\n",
            "Content: Fakultät IV - Wirtschaft und Informatik, Bachelorstudiengang Wirtschaftsinformatik\n",
            "Teilmodul  BIS-229-01 SCM-Projekt\n",
            " \n",
            "Verantwortliche(r) Andreßen, Thomas, Prof. Dr.\n",
            "Sprache Deutsch\n",
            "Zuordnung zu Curricula BIS - semesterweise, MAT - jährlich\n",
            "Veranstaltungsart, SWS Projekt, 3 SWS\n",
            "Credits 6\n",
            "Präsenzstunden / Selbststudium 51 h / 129 h\n",
            "Studiensemester 6\n",
            "Empfehlungen zum Selbststudium Reflexion der Grundlagen zum Projektmanagement\n",
            "Studien-/ Prüfungsleistungen B, EDR, H, P - einfache Gewichtung\n",
            "\n",
            "Source: {'producer': 'Adobe PDF Library 24.2.229', 'creator': 'Acrobat PDFMaker 24 für Word', 'creationdate': '2024-09-03T11:23:01+02:00', 'author': 'achilles', 'company': 'Fakultät IV, Abt. Wirtschaft', 'keywords': '', 'moddate': '2024-09-03T11:33:33+02:00', 'sourcemodified': 'D:20240903091206', 'subject': '', 'title': 'I', 'source': '/content/drive/MyDrive/Praxisphase_BIS/05-BIS-Studien-Modulhandbuch-PO2018-240903.pdf', 'total_pages': 202, 'page': 80, 'page_label': '81', 'section': 'middle'}\n",
            "Content: Fakultät IV - Wirtschaft und Informatik, Bachelorstudiengang Wirtschaftsinformatik\n",
            "Modul  BIS-201 Anwendungsprogrammierung\n",
            " \n",
            "Modulniveau Aufbaumodul\n",
            "Pflicht / Wahlpflicht Pflichtmodul\n",
            "Teilmodule BIS-201-01 Anwendungsprogrammierung, Pflicht\n",
            "Verantwortliche(r) Paßlick, Jens Hendrik, Prof. Dr.\n",
            "Credits 6\n",
            "Präsenzstunden / Selbststudium 68 h / 112 h\n",
            "Studiensemester 4\n",
            "Moduldauer 1 Semester\n",
            "Voraussetzungen nach \n",
            "Prüfungsordnung\n",
            "Module des 1. Studienabschnitts\n",
            "\n",
            "Source: {'producer': 'Adobe PDF Library 24.2.229', 'creator': 'Acrobat PDFMaker 24 für Word', 'creationdate': '2024-09-03T11:23:01+02:00', 'author': 'achilles', 'company': 'Fakultät IV, Abt. Wirtschaft', 'keywords': '', 'moddate': '2024-09-03T11:33:33+02:00', 'sourcemodified': 'D:20240903091206', 'subject': '', 'title': 'I', 'source': '/content/drive/MyDrive/Praxisphase_BIS/05-BIS-Studien-Modulhandbuch-PO2018-240903.pdf', 'total_pages': 202, 'page': 62, 'page_label': '63', 'section': 'middle'}\n",
            "Content: Fakultät IV - Wirtschaft und Informatik, Bachelorstudiengang Wirtschaftsinformatik\n",
            "Teilmodul  BIS-133-02 IT-Projektmanagement\n",
            " \n",
            "Verantwortliche(r) Neumann, Michael\n",
            "Sprache Deutsch\n",
            "Zuordnung zu Curricula BIS, VIF - semesterweise\n",
            "Veranstaltungsart, SWS Vorlesung mit Übung, 2 SWS\n",
            "Credits 2\n",
            "Präsenzstunden / Selbststudium 34 h / 26 h\n",
            "Empfehlungen zum Selbststudium Studium der empfohlenen Literatur\n",
            "Studien-/ Prüfungsleistungen auf Modulebene\n",
            "Gruppengröße 100\n",
            "Angestrebte Lernergebnisse\n",
            "\n",
            "Source: {'producer': 'Adobe PDF Library 24.2.229', 'creator': 'Acrobat PDFMaker 24 für Word', 'creationdate': '2024-09-03T11:23:01+02:00', 'author': 'achilles', 'company': 'Fakultät IV, Abt. Wirtschaft', 'keywords': '', 'moddate': '2024-09-03T11:33:33+02:00', 'sourcemodified': 'D:20240903091206', 'subject': '', 'title': 'I', 'source': '/content/drive/MyDrive/Praxisphase_BIS/05-BIS-Studien-Modulhandbuch-PO2018-240903.pdf', 'total_pages': 202, 'page': 171, 'page_label': '172', 'section': 'end'}\n",
            "Content: Fakultät IV - Wirtschaft und Informatik, Bachelorstudiengang Wirtschaftsinformatik\n",
            "Teilmodul  BIS-267-02 Software Quality (in English)\n",
            " \n",
            "Verantwortliche(r) Chong, Denis, Prof. Dr.\n",
            "Sprache Englisch\n",
            "Zuordnung zu Curricula BIS - every semester\n",
            "Veranstaltungsart, SWS Seminar, 4 SWS\n",
            "Credits 6\n",
            "Präsenzstunden / Selbststudium 68 h / 112 h\n",
            "Empfehlungen zum Selbststudium Dealing more extensively with the course contents by means of teaching\n",
            "\n",
            "Source: {'producer': 'Adobe PDF Library 24.2.229', 'creator': 'Acrobat PDFMaker 24 für Word', 'creationdate': '2024-09-03T11:23:01+02:00', 'author': 'achilles', 'company': 'Fakultät IV, Abt. Wirtschaft', 'keywords': '', 'moddate': '2024-09-03T11:33:33+02:00', 'sourcemodified': 'D:20240903091206', 'subject': '', 'title': 'I', 'source': '/content/drive/MyDrive/Praxisphase_BIS/05-BIS-Studien-Modulhandbuch-PO2018-240903.pdf', 'total_pages': 202, 'page': 56, 'page_label': '57', 'section': 'middle'}\n",
            "Content: Verantwortliche(r) Wartenberg, Maylin Prof. Dr.\n",
            "Credits 6\n",
            "Präsenzstunden / Selbststudium 68 h / 112 h\n",
            "Studiensemester 3\n",
            "Moduldauer 1 Semester\n",
            "Voraussetzungen nach \n",
            "Prüfungsordnung\n",
            "keine\n",
            "Empfohlene Voraussetzungen BIS-123 Wirtschaftsmathematik, BIS-141 Informatik-Grundlagen, BIS-142 \n",
            "Programmieren\n",
            "Studien-/ Prüfungsleistungen auf Teilmodulebene\n",
            "Angestrebte Lernergebnisse\n",
            "Die Studierenden kennen für die Informatik grundlegende Begriffe, Methoden und Algorithmen der\n",
            "\n",
            "Source: {'producer': 'Adobe PDF Library 24.2.229', 'creator': 'Acrobat PDFMaker 24 für Word', 'creationdate': '2024-09-03T11:23:01+02:00', 'author': 'achilles', 'company': 'Fakultät IV, Abt. Wirtschaft', 'keywords': '', 'moddate': '2024-09-03T11:33:33+02:00', 'sourcemodified': 'D:20240903091206', 'subject': '', 'title': 'I', 'source': '/content/drive/MyDrive/Praxisphase_BIS/05-BIS-Studien-Modulhandbuch-PO2018-240903.pdf', 'total_pages': 202, 'page': 165, 'page_label': '166', 'section': 'end'}\n",
            "Content: Fakultät IV - Wirtschaft und Informatik, Bachelorstudiengang Wirtschaftsinformatik\n",
            "Teilmodul  BIS-265-02 Software Architectures (in English)\n",
            " \n",
            "Verantwortliche(r) N.N.\n",
            "Sprache Englisch\n",
            "Zuordnung zu Curricula BIS - please refer to semester planning\n",
            "Veranstaltungsart, SWS Vorlesung, 4 SWS\n",
            "Credits 6\n",
            "Präsenzstunden / Selbststudium 68 h / 112 h\n",
            "Empfehlungen zum Selbststudium - Preparing and reviewing the content of the lectures using the electronic \n",
            "teaching materials provided\n",
            "\n",
            "Source: {'producer': 'Adobe PDF Library 24.2.229', 'creator': 'Acrobat PDFMaker 24 für Word', 'creationdate': '2024-09-03T11:23:01+02:00', 'author': 'achilles', 'company': 'Fakultät IV, Abt. Wirtschaft', 'keywords': '', 'moddate': '2024-09-03T11:33:33+02:00', 'sourcemodified': 'D:20240903091206', 'subject': '', 'title': 'I', 'source': '/content/drive/MyDrive/Praxisphase_BIS/05-BIS-Studien-Modulhandbuch-PO2018-240903.pdf', 'total_pages': 202, 'page': 111, 'page_label': '112', 'section': 'end'}\n",
            "Content: Fakultät IV - Wirtschaft und Informatik, Bachelorstudiengang Wirtschaftsinformatik\n",
            "Teilmodul  BIS-222-01 IT-Systeme der Produktion u. Logistik\n",
            " \n",
            "Verantwortliche(r) Andreßen, Thomas, Prof. Dr.\n",
            "Sprache Deutsch\n",
            "Zuordnung zu Curricula BIS - semesterweise, MAT - jährlich\n",
            "Veranstaltungsart, SWS Vorlesung mit Übung, 4 SWS\n",
            "Credits 6\n",
            "Präsenzstunden / Selbststudium 68 h / 112 h\n",
            "Studiensemester 5\n",
            "Empfehlungen zum Selbststudium Vor- und Nachbereitung anhand Skript, Bearbeiten von Übungsaufgaben.\n",
            "\n",
            "Source: {'producer': 'Adobe PDF Library 24.2.229', 'creator': 'Acrobat PDFMaker 24 für Word', 'creationdate': '2024-09-03T11:23:01+02:00', 'author': 'achilles', 'company': 'Fakultät IV, Abt. Wirtschaft', 'keywords': '', 'moddate': '2024-09-03T11:33:33+02:00', 'sourcemodified': 'D:20240903091206', 'subject': '', 'title': 'I', 'source': '/content/drive/MyDrive/Praxisphase_BIS/05-BIS-Studien-Modulhandbuch-PO2018-240903.pdf', 'total_pages': 202, 'page': 99, 'page_label': '100', 'section': 'end'}\n",
            "Content: Fakultät IV - Wirtschaft und Informatik, Bachelorstudiengang Wirtschaftsinformatik\n",
            "Teilmodul  BIS-211-01 Informationsmanagement\n",
            " \n",
            "Verantwortliche(r) Mengelkamp, Aaron, Prof. Dr.\n",
            "Sprache Deutsch\n",
            "Zuordnung zu Curricula BIS - semesterweise\n",
            "Veranstaltungsart, SWS Vorlesung, 4 SWS\n",
            "Credits 6\n",
            "Präsenzstunden / Selbststudium 68 h / 112 h\n",
            "Studiensemester 4\n",
            "Empfehlungen zum Selbststudium - Vor- und Nachbereitung der Vorlesung anhand Skript\n",
            "- Studium empfohlenen Fachliteratur\n"
          ]
        },
        {
          "output_type": "stream",
          "name": "stderr",
          "text": [
            "WARNING:langsmith.client:Failed to send compressed multipart ingest: langsmith.utils.LangSmithError: Failed to POST https://api.smith.langchain.com/runs/multipart in LangSmith API. HTTPError('403 Client Error: Forbidden for url: https://api.smith.langchain.com/runs/multipart', '{\"error\":\"Forbidden\"}\\n')\n"
          ]
        },
        {
          "output_type": "stream",
          "name": "stdout",
          "text": [
            "==================================\u001b[1m Ai Message \u001b[0m==================================\n",
            "\n",
            "Der Professor für das Modul Software Engineering ist Dennis Chong.\n"
          ]
        }
      ]
    },
    {
      "cell_type": "code",
      "source": [
        "%pip install -q gradio"
      ],
      "metadata": {
        "id": "ZuH-EI8IPwxb",
        "colab": {
          "base_uri": "https://localhost:8080/"
        },
        "outputId": "a9daf195-a1fa-47f0-acf3-22dbf240b9b4"
      },
      "execution_count": 15,
      "outputs": [
        {
          "output_type": "stream",
          "name": "stdout",
          "text": [
            "\u001b[2K   \u001b[90m━━━━━━━━━━━━━━━━━━━━━━━━━━━━━━━━━━━━━━━━\u001b[0m \u001b[32m46.9/46.9 MB\u001b[0m \u001b[31m22.1 MB/s\u001b[0m eta \u001b[36m0:00:00\u001b[0m\n",
            "\u001b[2K   \u001b[90m━━━━━━━━━━━━━━━━━━━━━━━━━━━━━━━━━━━━━━━━\u001b[0m \u001b[32m322.2/322.2 kB\u001b[0m \u001b[31m20.9 MB/s\u001b[0m eta \u001b[36m0:00:00\u001b[0m\n",
            "\u001b[2K   \u001b[90m━━━━━━━━━━━━━━━━━━━━━━━━━━━━━━━━━━━━━━━━\u001b[0m \u001b[32m95.2/95.2 kB\u001b[0m \u001b[31m6.6 MB/s\u001b[0m eta \u001b[36m0:00:00\u001b[0m\n",
            "\u001b[2K   \u001b[90m━━━━━━━━━━━━━━━━━━━━━━━━━━━━━━━━━━━━━━━━\u001b[0m \u001b[32m11.5/11.5 MB\u001b[0m \u001b[31m108.8 MB/s\u001b[0m eta \u001b[36m0:00:00\u001b[0m\n",
            "\u001b[2K   \u001b[90m━━━━━━━━━━━━━━━━━━━━━━━━━━━━━━━━━━━━━━━━\u001b[0m \u001b[32m72.0/72.0 kB\u001b[0m \u001b[31m4.7 MB/s\u001b[0m eta \u001b[36m0:00:00\u001b[0m\n",
            "\u001b[2K   \u001b[90m━━━━━━━━━━━━━━━━━━━━━━━━━━━━━━━━━━━━━━━━\u001b[0m \u001b[32m62.5/62.5 kB\u001b[0m \u001b[31m4.1 MB/s\u001b[0m eta \u001b[36m0:00:00\u001b[0m\n",
            "\u001b[?25h"
          ]
        }
      ]
    },
    {
      "cell_type": "code",
      "source": [
        "import gradio as gr\n",
        "\n",
        "THREAD_ID = \"ubejde-kaso-session\"\n",
        "\n",
        "chat_history = []\n",
        "\n",
        "def chat_rag(user_message, history):\n",
        "    response = graph.invoke(\n",
        "        {\"messages\": [{\"role\": \"user\", \"content\": user_message}]},\n",
        "        config={\"configurable\": {\"thread_id\": THREAD_ID}}\n",
        "    )\n",
        "    assistant_reply = response[\"messages\"][-1].content\n",
        "    return assistant_reply\n",
        "\n",
        "gr.ChatInterface(\n",
        "    fn=chat_rag,\n",
        "    title=\"📚 Persönlicher Studienberater RAG für UBEJDE KASO\",\n",
        "    description=\"Stelle Fragen zu deinem Studium – mit vollständigem Gesprächsverlauf.\",\n",
        ").launch(share=True)\n"
      ],
      "metadata": {
        "colab": {
          "base_uri": "https://localhost:8080/",
          "height": 608
        },
        "id": "ysk6e7etP1fL",
        "outputId": "3064fa9f-2ea7-446c-fb90-9203a9f783a6"
      },
      "execution_count": 16,
      "outputs": [
        {
          "output_type": "stream",
          "name": "stderr",
          "text": [
            "/usr/local/lib/python3.11/dist-packages/gradio/chat_interface.py:338: UserWarning: The 'tuples' format for chatbot messages is deprecated and will be removed in a future version of Gradio. Please set type='messages' instead, which uses openai-style 'role' and 'content' keys.\n",
            "  self.chatbot = Chatbot(\n"
          ]
        },
        {
          "output_type": "stream",
          "name": "stdout",
          "text": [
            "Colab notebook detected. To show errors in colab notebook, set debug=True in launch()\n",
            "* Running on public URL: https://4150709b62665be874.gradio.live\n",
            "\n",
            "This share link expires in 1 week. For free permanent hosting and GPU upgrades, run `gradio deploy` from the terminal in the working directory to deploy to Hugging Face Spaces (https://huggingface.co/spaces)\n"
          ]
        },
        {
          "output_type": "display_data",
          "data": {
            "text/plain": [
              "<IPython.core.display.HTML object>"
            ],
            "text/html": [
              "<div><iframe src=\"https://4150709b62665be874.gradio.live\" width=\"100%\" height=\"500\" allow=\"autoplay; camera; microphone; clipboard-read; clipboard-write;\" frameborder=\"0\" allowfullscreen></iframe></div>"
            ]
          },
          "metadata": {}
        },
        {
          "output_type": "execute_result",
          "data": {
            "text/plain": []
          },
          "metadata": {},
          "execution_count": 16
        }
      ]
    }
  ]
}